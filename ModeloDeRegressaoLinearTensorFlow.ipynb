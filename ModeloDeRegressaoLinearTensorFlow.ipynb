{
 "cells": [
  {
   "cell_type": "markdown",
   "metadata": {},
   "source": [
    "CONSTRUINDO UM MODELO DE REGRESSAO LINEAR COM TENSORFLOW"
   ]
  },
  {
   "cell_type": "code",
   "execution_count": 1,
   "metadata": {},
   "outputs": [],
   "source": [
    "#imports\n",
    "import tensorflow as tf\n",
    "import numpy as np\n",
    "import matplotlib.pyplot as plt\n",
    "%matplotlib inline"
   ]
  },
  {
   "cell_type": "markdown",
   "metadata": {},
   "source": [
    "Definindo os hyperparâmetros do Modelo"
   ]
  },
  {
   "cell_type": "code",
   "execution_count": 2,
   "metadata": {},
   "outputs": [],
   "source": [
    "#Hiperparametros do modelo\n",
    "learning_rate = 0.01\n",
    "training_epochs = 2000\n",
    "display_step = 200"
   ]
  },
  {
   "cell_type": "markdown",
   "metadata": {},
   "source": [
    "Definindo os datasets de treino e de teste \n",
    "Considere X como o tamanho de uma casa e o Y o preço e uma casa"
   ]
  },
  {
   "cell_type": "code",
   "execution_count": 3,
   "metadata": {},
   "outputs": [],
   "source": [
    "#dataset de treino\n",
    "train_x = np.asarray([3.3, 4.4, 5.5, 6.71, 6.93, 4.168, 9.779, 6.182, 7.59, 2.167, 7.042, 10.791, 5.313, 7.997, 5.654, 9.27, 3.1])\n",
    "train_y = np.asarray([1.7, 2.76, 2.09, 3.19, 1.694, 1.573, 3.366, 2.596, 2.53, 1.221, 2.827, 3.465, 1.65, 2.904, 2.42, 2.94, 1.3])\n",
    "\n",
    "#Dataset de teste\n",
    "test_x = np.asarray([6.83, 4.668, 8.9, 7.91, 5.7, 8.7, 3.1, 2.1])\n",
    "test_y = np.asarray([1.84, 2.273, 3.2, 2.831, 2.92, 3.24, 1.35, 1.03])\n",
    "\n",
    "n_samples = train_x.shape[0]"
   ]
  },
  {
   "cell_type": "code",
   "execution_count": 4,
   "metadata": {},
   "outputs": [],
   "source": [
    "#Dataset de teste\n",
    "test_x = np.asarray([6.83, 4.668, 8.9, 7.91, 5.7, 8.7, 3.1, 2.1])\n",
    "test_y = np.asarray([1.84, 2.273, 3.2, 2.831, 2.92, 3.24, 1.35, 1.03])"
   ]
  },
  {
   "cell_type": "code",
   "execution_count": 5,
   "metadata": {},
   "outputs": [],
   "source": [
    "#PLACEHOLDERS E VARIAVEIS\n",
    "''' \n",
    "    Placeholders para as variaveis preditoras (x)\n",
    "    e para variável target (y) \n",
    "'''\n",
    "x = tf.placeholder(tf.float32)\n",
    "y = tf.placeholder(tf.float32)"
   ]
  },
  {
   "cell_type": "code",
   "execution_count": 6,
   "metadata": {},
   "outputs": [],
   "source": [
    "''' Pesos e bias do modelo '''\n",
    "w = tf.Variable(np.random.randn(), name=\"weight\")\n",
    "b = tf.Variable(np.random.rand(), name=\"bias\")"
   ]
  },
  {
   "cell_type": "code",
   "execution_count": 7,
   "metadata": {},
   "outputs": [],
   "source": [
    "\n",
    "#CONSTRUINDO O MODELO LINEAR\n",
    "''' FÓRMULA MATEMATICA DO MODELO LINEAR\n",
    "    y = W*X + b '''\n",
    "linear_model = w*x + b"
   ]
  },
  {
   "cell_type": "code",
   "execution_count": 8,
   "metadata": {},
   "outputs": [],
   "source": [
    "#Mean squared error (erro quadrado medio)\n",
    "cost = tf.reduce_sum(tf.square(linear_model - y)) / (2*n_samples)"
   ]
  },
  {
   "cell_type": "code",
   "execution_count": 9,
   "metadata": {},
   "outputs": [],
   "source": [
    "#Otimizando com Gradient descent\n",
    "optimizer = tf.train.GradientDescentOptimizer(learning_rate).minimize(cost)"
   ]
  },
  {
   "cell_type": "code",
   "execution_count": 10,
   "metadata": {},
   "outputs": [],
   "source": [
    "#Executando  o grafo computacional, treinando e testando o modelo\n",
    "'definindo a inicializaçao das variaveis'\n",
    "init = tf.global_variables_initializer()"
   ]
  },
  {
   "cell_type": "code",
   "execution_count": 13,
   "metadata": {},
   "outputs": [
    {
     "name": "stdout",
     "output_type": "stream",
     "text": [
      "Epoch:   200 \t Cost:   0.07709 \t W:0.2589\n",
      "Epoch:   400 \t Cost:   0.07703 \t W:0.2573\n",
      "Epoch:   600 \t Cost:   0.07699 \t W:0.2561\n",
      "Epoch:   800 \t Cost:   0.07697 \t W:0.2551\n",
      "Epoch:  1000 \t Cost:   0.07695 \t W:0.2544\n",
      "Epoch:  1200 \t Cost:   0.07694 \t W:0.2538\n",
      "Epoch:  1400 \t Cost:   0.07694 \t W:0.2533\n",
      "Epoch:  1600 \t Cost:   0.07693 \t W: 0.253\n",
      "Epoch:  1800 \t Cost:   0.07693 \t W:0.2527\n",
      "Epoch:  2000 \t Cost:   0.07693 \t W:0.2524\n",
      "\n",
      "Optimization Completed\n",
      "Final Cost of Training:  0.07693088  \n",
      "Final Weight:  0.25244594 \n",
      "Final Bias:  0.7930517 \n",
      "\n"
     ]
    },
    {
     "data": {
      "image/png": "[encoded data removed]",
      "text/plain": [
       "<Figure size 432x288 with 1 Axes>"
      ]
     },
     "metadata": {
      "needs_background": "light"
     },
     "output_type": "display_data"
    }
   ],
   "source": [
    "\n",
    "'iniciando a sessao'\n",
    "with tf.Session() as sess:\n",
    "    'iniciando as variaveis'\n",
    "    sess.run(init)\n",
    "\n",
    "    #treinando o modelo\n",
    "    for epoch in range(training_epochs):\n",
    "        sess.run(optimizer, feed_dict={x: train_x, y: train_y}) #otimizando com Gradient Descent\n",
    "\n",
    "        #display de cada epoch\n",
    "        if (epoch+1) % display_step == 0:\n",
    "            c = sess.run(cost, feed_dict={x: train_x, y: train_y})\n",
    "            print(\"Epoch:{0:6} \\t Cost:{1:10.4} \\t W:{2:6.4}\".format(epoch+1, c, sess.run(w), sess.run(b)))\n",
    "\n",
    "    #Imprimindo os parametros finais do modelo\n",
    "    print(\"\\nOptimization Completed\")\n",
    "    training_cost = sess.run(cost, feed_dict={x:train_x, y:train_y})\n",
    "    print(\"Final Cost of Training: \", training_cost, \" \\nFinal Weight: \", sess.run(w), \"\\nFinal Bias: \", sess.run(b), \"\\n\")\n",
    "\n",
    "    #Visualizaçao do resultado\n",
    "    plt.plot(train_x, train_y, 'ro', label=\"Dados Originais\")\n",
    "    plt.plot(train_x, sess.run(w) * train_x + sess.run(b), label=\"Linha de Regressão\")\n",
    "    plt.legend()\n",
    "    plt.show()"
   ]
  },
  {
   "cell_type": "code",
   "execution_count": null,
   "metadata": {},
   "outputs": [],
   "source": []
  }
 ],
 "metadata": {
  "kernelspec": {
   "display_name": "Python 3",
   "language": "python",
   "name": "python3"
  },
  "language_info": {
   "codemirror_mode": {
    "name": "ipython",
    "version": 3
   },
   "file_extension": ".py",
   "mimetype": "text/x-python",
   "name": "python",
   "nbconvert_exporter": "python",
   "pygments_lexer": "ipython3",
   "version": "3.7.3"
  }
 },
 "nbformat": 4,
 "nbformat_minor": 4
}
